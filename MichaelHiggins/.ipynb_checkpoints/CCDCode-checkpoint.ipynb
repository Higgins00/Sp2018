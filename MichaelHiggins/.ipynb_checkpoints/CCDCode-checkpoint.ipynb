{
 "cells": [
  {
   "cell_type": "code",
   "execution_count": 1,
   "metadata": {},
   "outputs": [],
   "source": [
    "%matplotlib inline\n",
    "\n",
    "import numpy as np\n",
    "import matplotlib.pyplot as plt\n",
    "import astropy.io.fits as fits\n",
    "from astropy import stats"
   ]
  },
  {
   "cell_type": "code",
   "execution_count": 57,
   "metadata": {},
   "outputs": [
    {
     "name": "stdout",
     "output_type": "stream",
     "text": [
      "Filename: ./flat_5s_test.FIT\n",
      "No.    Name      Ver    Type      Cards   Dimensions   Format\n",
      "  0  PRIMARY       1 PrimaryHDU      38   (2184, 1472)   int16 (rescales to uint16)   \n",
      "Filename: ./flat_5s_2_test.FIT\n",
      "No.    Name      Ver    Type      Cards   Dimensions   Format\n",
      "  0  PRIMARY       1 PrimaryHDU      38   (2184, 1472)   int16 (rescales to uint16)   \n",
      "Filename: ./bias_3.FIT\n",
      "No.    Name      Ver    Type      Cards   Dimensions   Format\n",
      "  0  PRIMARY       1 PrimaryHDU      38   (2184, 1472)   int16 (rescales to uint16)   \n",
      "Filename: ./bias_2.FIT\n",
      "No.    Name      Ver    Type      Cards   Dimensions   Format\n",
      "  0  PRIMARY       1 PrimaryHDU      38   (2184, 1472)   int16 (rescales to uint16)   \n"
     ]
    }
   ],
   "source": [
    "data_file0 = \"./flat_5s_test.FIT\"\n",
    "data_file1 = \"./flat_5s_2_test.FIT\"\n",
    "data_file2 = \"./bias_3.FIT\"\n",
    "data_file3 = \"./bias_2.FIT\"\n",
    "\n",
    "my_fits_file0 = fits.open(data_file0)\n",
    "my_fits_file1 = fits.open(data_file1)\n",
    "my_fits_file2 = fits.open(data_file2)\n",
    "my_fits_file3 = fits.open(data_file3)\n",
    "\n",
    "my_fits_file0.info()\n",
    "my_fits_file1.info()\n",
    "my_fits_file2.info()\n",
    "my_fits_file3.info()\n",
    "\n",
    "\n",
    "flat1 = my_fits_file0[0].data\n",
    "flat2 = my_fits_file1[0].data\n",
    "bias1 = my_fits_file2[0].data\n",
    "bias2 = my_fits_file3[0].data"
   ]
  },
  {
   "cell_type": "code",
   "execution_count": 58,
   "metadata": {},
   "outputs": [
    {
     "data": {
      "text/plain": [
       "<matplotlib.image.AxesImage at 0x7fc675cc2198>"
      ]
     },
     "execution_count": 58,
     "metadata": {},
     "output_type": "execute_result"
    },
    {
     "data": {
      "image/png": "[encoded data removed]",
      "text/plain": [
       "<matplotlib.figure.Figure at 0x7fc67c1e80b8>"
      ]
     },
     "metadata": {
      "needs_background": "light"
     },
     "output_type": "display_data"
    }
   ],
   "source": [
    "fig, ax = plt.subplots(1,4)\n",
    "\n",
    "fig.set_size_inches(12,6)\n",
    "\n",
    "fig.tight_layout()\n",
    "\n",
    "ax[0].imshow(flat1-flat2, cmap=plt.cm.gray)\n",
    "ax[1].imshow(flat2, cmap=plt.cm.gray)\n",
    "ax[2].imshow(bias1-bias2, cmap=plt.cm.gray)\n",
    "ax[3].imshow(bias2, cmap=plt.cm.gray)"
   ]
  },
  {
   "cell_type": "code",
   "execution_count": 59,
   "metadata": {},
   "outputs": [
    {
     "data": {
      "text/plain": [
       "(1736.8613215928094, 1060.6305066367056, 18.233746678239243, 71.8427228826452)"
      ]
     },
     "execution_count": 59,
     "metadata": {},
     "output_type": "execute_result"
    }
   ],
   "source": [
    "f1m,f1std = flat1.mean(), flat1.std()\n",
    "f1m,b1m,b1std,f1std"
   ]
  },
  {
   "cell_type": "code",
   "execution_count": 41,
   "metadata": {},
   "outputs": [],
   "source": [
    "f2m,f2std = flat2.mean(), flat2.std()"
   ]
  },
  {
   "cell_type": "code",
   "execution_count": 42,
   "metadata": {},
   "outputs": [],
   "source": [
    "b1m,b1std = bias1.mean(), bias1.std()"
   ]
  },
  {
   "cell_type": "code",
   "execution_count": 43,
   "metadata": {},
   "outputs": [],
   "source": [
    "b2m,b2std = bias2.mean(), bias2.std()"
   ]
  },
  {
   "cell_type": "code",
   "execution_count": 44,
   "metadata": {},
   "outputs": [],
   "source": [
    "varianceflat=((flat1-flat2).std())**2"
   ]
  },
  {
   "cell_type": "code",
   "execution_count": 45,
   "metadata": {},
   "outputs": [],
   "source": [
    "variancebias=((bias1-bias2).std())**2"
   ]
  },
  {
   "cell_type": "code",
   "execution_count": 46,
   "metadata": {},
   "outputs": [
    {
     "data": {
      "text/plain": [
       "-1.693974187624998e-06"
      ]
     },
     "execution_count": 46,
     "metadata": {},
     "output_type": "execute_result"
    }
   ],
   "source": [
    "gain = ((f1m + f2m)-(b1m + b2m)) / (varianceflat-variancebias)\n",
    "gain"
   ]
  },
  {
   "cell_type": "code",
   "execution_count": 50,
   "metadata": {},
   "outputs": [
    {
     "data": {
      "text/plain": [
       "12107.715318187287"
      ]
     },
     "execution_count": 50,
     "metadata": {},
     "output_type": "execute_result"
    }
   ],
   "source": []
  },
  {
   "cell_type": "code",
   "execution_count": 51,
   "metadata": {},
   "outputs": [
    {
     "data": {
      "text/plain": [
       "1072956339.0702404"
      ]
     },
     "execution_count": 51,
     "metadata": {},
     "output_type": "execute_result"
    }
   ],
   "source": []
  },
  {
   "cell_type": "code",
   "execution_count": null,
   "metadata": {},
   "outputs": [],
   "source": []
  }
 ],
 "metadata": {
  "kernelspec": {
   "display_name": "Python 3",
   "language": "python",
   "name": "python3"
  },
  "language_info": {
   "codemirror_mode": {
    "name": "ipython",
    "version": 3
   },
   "file_extension": ".py",
   "mimetype": "text/x-python",
   "name": "python",
   "nbconvert_exporter": "python",
   "pygments_lexer": "ipython3",
   "version": "3.6.8"
  }
 },
 "nbformat": 4,
 "nbformat_minor": 2
}
